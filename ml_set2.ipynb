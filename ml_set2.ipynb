{
 "cells": [
  {
   "cell_type": "markdown",
   "id": "82dd5f50-e981-42c0-b422-c421da6bed9b",
   "metadata": {},
   "source": [
    "# **Spilios Spiliopoulos 4495**\n",
    "# Set 2 Machine Learning CSE"
   ]
  },
  {
   "cell_type": "markdown",
   "id": "84f81f38-7416-4e07-968c-63566fa78720",
   "metadata": {},
   "source": [
    "# Its important to keep track the shapes of the arrays\n",
    "\n",
    "* In every run of the code blocks, small modification might be needed in order to reshape properly the inputs\n",
    "* That happens beacuse the PCA method may achieve different results during dimensions reduction \n",
    "* Check For \"IMPORTANT NOTES\" headers\n",
    "* The current code works for M = 132"
   ]
  },
  {
   "cell_type": "markdown",
   "id": "9ff13c39-7ea8-4d34-b332-779aef0a3725",
   "metadata": {},
   "source": [
    "# In the zip folder, there is a python script that will help the user calculate the reshpae dimensions (if needed)\n",
    "# That's because the PCA method outputs inconsistent number of reduced dimensions M. "
   ]
  },
  {
   "cell_type": "markdown",
   "id": "012a3d5a-040b-4333-8b71-511be8bd813b",
   "metadata": {},
   "source": [
    "# Load the Data from the Fashion MNIST Dataset\n",
    "* Set the train images\n",
    "* Set the test images\n",
    "* Reshape both to 1D array (784 1D Matrix for features instead of (28 , 28) 2D Array)\n",
    "* That is required in order to use our machine learning models"
   ]
  },
  {
   "cell_type": "code",
   "execution_count": 160,
   "id": "af0689d5-38b9-4469-978e-1f7a94110604",
   "metadata": {},
   "outputs": [
    {
     "name": "stdout",
     "output_type": "stream",
     "text": [
      "(60000, 28, 28)\n",
      "(60000,)\n",
      "(60000, 784)\n",
      "(60000,)\n"
     ]
    }
   ],
   "source": [
    "import numpy as np\n",
    "import pandas as pd\n",
    "import tensorflow as tf\n",
    "from tensorflow.keras.layers import Input, Dense\n",
    "from tensorflow.keras.models import Model\n",
    "from sklearn.decomposition import PCA\n",
    "from sklearn.preprocessing import StandardScaler\n",
    "from sklearn.model_selection import train_test_split\n",
    "from keras.datasets import fashion_mnist\n",
    "\n",
    "# Load Fashion MNIST data\n",
    "(train_images, train_labels), (test_images, test_labels) = fashion_mnist.load_data()\n",
    "\n",
    "# Normalize the data\n",
    "train_images = train_images.astype('float32') / 255.0\n",
    "test_images = test_images.astype('float32') / 255.0\n",
    "\n",
    "# Print the shape of the training data\n",
    "print(train_images.shape)  # Output: (60000, 28, 28)\n",
    "print(train_labels.shape)  # Output: (60000,)\n",
    "\n",
    "# Reshape the data to 2D (d=784) 2D array needed for PCA\n",
    "train_images = train_images.reshape((60000, 28 * 28))\n",
    "test_images = test_images.reshape((10000, 28 * 28))\n",
    "\n",
    "# Print the new shape of the training data \n",
    "print(train_images.shape)  # Output: (60000, 784)\n",
    "print(train_labels.shape)  # Output: (60000,)"
   ]
  },
  {
   "cell_type": "markdown",
   "id": "34661b15-914a-4c51-82d8-35949fea76f4",
   "metadata": {},
   "source": [
    "# **Samples Selection**"
   ]
  },
  {
   "cell_type": "markdown",
   "id": "920dd4f2-2f3d-4957-8980-880d1d6edc4f",
   "metadata": {},
   "source": [
    "# Select random samples of 1000 for each category\n",
    "* Increase/Decrease the sample size (samples = ... ) for larger/smaller dataset "
   ]
  },
  {
   "cell_type": "markdown",
   "id": "030d8ff6-286b-4fdc-98d8-df9f615582d9",
   "metadata": {},
   "source": [
    "# Check the \"IMPORTANT NOTE\" below in the code"
   ]
  },
  {
   "cell_type": "code",
   "execution_count": 167,
   "id": "632f88a1-7a36-4565-a0f4-25ac990b1cf4",
   "metadata": {},
   "outputs": [
    {
     "name": "stdout",
     "output_type": "stream",
     "text": [
      "Size of the sampled training set: (10000, 784)\n",
      "Size of the sampled training labels: (10000,)\n",
      "Size of the sampled test set: (2000, 784)\n",
      "Size of the sampled test labels: (2000,)\n"
     ]
    }
   ],
   "source": [
    "#Import the random library  \n",
    "import random\n",
    "\n",
    "# Set random seed for reproducibility)\n",
    "random.seed(42)\n",
    "\n",
    "samples_train = 1000\n",
    "sampled_images = []\n",
    "sampled_labels = []\n",
    "\n",
    "# Sample training data\n",
    "sampled_train_images = []\n",
    "sampled_train_labels = []\n",
    "\n",
    "# Iterate over each category for training data\n",
    "for category in range(10):  # There are 10 categories in Fashion MNIST\n",
    "    # Find indices of data belonging to the current category\n",
    "    # Get a list where the train label values \n",
    "    # (1D array meaning it contains just numbers of categories)\n",
    "    # are the same as the current category.\n",
    "    category_indices = np.where(train_labels == category)[0]\n",
    "\n",
    "    # Randomly sample a subset of data from the current category\n",
    "    sampled_indices = np.random.choice(category_indices, samples_train, replace=False)\n",
    "    \n",
    "    # Add the sampled data to the lists\n",
    "    sampled_train_images.append(train_images[sampled_indices])\n",
    "    sampled_train_labels.append(train_labels[sampled_indices])\n",
    "\n",
    "# Concatenate the sampled training data from all categories\n",
    "# Convert the list of np.array with each array containing \n",
    "# the sampled images and labels for a particular category. \n",
    "# To create a unified training dataset that contains all \n",
    "# the sampled images and labels across all categories, we  \n",
    "# need to concatenate these lists of arrays into a single numpy array.\n",
    "sampled_train_images = np.concatenate(sampled_train_images, axis=0)\n",
    "sampled_train_labels = np.concatenate(sampled_train_labels, axis=0)\n",
    "\n",
    "# Sample test data\n",
    "samples_test = 200\n",
    "sampled_test_images = []\n",
    "sampled_test_labels = []\n",
    "\n",
    "# Iterate over each category for test data\n",
    "for category in range(10):  # There are 10 categories in Fashion MNIST\n",
    "    # Find indices of data belonging to the current category\n",
    "    category_indices = np.where(test_labels == category)[0]\n",
    "    \n",
    "    # Randomly sample a subset of data from the current category\n",
    "    sampled_indices = np.random.choice(category_indices, samples_test, replace=False)\n",
    "    \n",
    "    # Add the sampled data to the lists\n",
    "    sampled_test_images.append(test_images[sampled_indices])\n",
    "    sampled_test_labels.append(test_labels[sampled_indices])\n",
    "\n",
    "# Concatenate the sampled test data from all categories\n",
    "sampled_test_images = np.concatenate(sampled_test_images, axis=0)\n",
    "sampled_test_labels = np.concatenate(sampled_test_labels, axis=0)\n",
    "\n",
    "# Print the size of the sampled datasets\n",
    "print(\"Size of the sampled training set:\", sampled_train_images.shape)\n",
    "print(\"Size of the sampled training labels:\", sampled_train_labels.shape)\n",
    "print(\"Size of the sampled test set:\", sampled_test_images.shape)\n",
    "print(\"Size of the sampled test labels:\", sampled_test_labels.shape)"
   ]
  },
  {
   "cell_type": "markdown",
   "id": "b67397d4-a210-40d0-9a94-f055ae90efe0",
   "metadata": {},
   "source": [
    "# Standarize the data :\n",
    "* Standarize the data and transform it to have a mean of 0 and a standard deviation of 1\n",
    "* In order to pass it to the PCA\n",
    "* Reduce Dimensions with the Principal Component Analysis (PCA) method"
   ]
  },
  {
   "cell_type": "code",
   "execution_count": 168,
   "id": "63b8a8fd-3af1-483a-bbcf-a7e4dc866e5a",
   "metadata": {},
   "outputs": [
    {
     "name": "stdout",
     "output_type": "stream",
     "text": [
      "(10000, 784)\n",
      "Original dimensions    :  784\n",
      "Reduced dimensions (M) :  132\n"
     ]
    }
   ],
   "source": [
    "# Standardize the data\n",
    "scaler = StandardScaler()\n",
    "train_images_std = scaler.fit_transform(sampled_train_images)\n",
    "# Uses the mean and standard deviation (or principal components) \n",
    "# calculated from the training data to standardize (or transform) the test data.\n",
    "# That's why we dont use \"fit_transform\" on the test data.\n",
    "test_images_std = scaler.transform(sampled_test_images)\n",
    "\n",
    "print(train_images_std.shape)\n",
    "\n",
    "# Apply PCA to retain 90% of the variance\n",
    "pca = PCA(n_components=0.90)\n",
    "train_images_pca = pca.fit_transform(train_images_std)\n",
    "# Same reason \n",
    "test_images_pca = pca.transform(test_images_std)\n",
    "\n",
    "# Get the dimension of the new feature space\n",
    "M = train_images_pca.shape[1]\n",
    "\n",
    "print(\"Original dimensions    : \", sampled_train_images.shape[1])\n",
    "print(\"Reduced dimensions (M) : \", M)"
   ]
  },
  {
   "cell_type": "markdown",
   "id": "07f3edb0-763f-4488-8c1f-80d21fe5fc46",
   "metadata": {},
   "source": [
    "**That means:** \n",
    "\n",
    "By retaining M = 132 components, we keep the dimensions that account for 90% of the total variance."
   ]
  },
  {
   "cell_type": "markdown",
   "id": "0c0cd349-c33d-4ccd-9fa0-7c54e76ae0ac",
   "metadata": {},
   "source": [
    "# If the Reduced Dimensions differ from M = 132\n",
    "# We will need to adjust the **reshape_dims** variable later"
   ]
  },
  {
   "cell_type": "markdown",
   "id": "f9dca3d0-428f-4446-9f78-0379208f5489",
   "metadata": {},
   "source": [
    "# **AUTOENCODER**"
   ]
  },
  {
   "cell_type": "markdown",
   "id": "38ea8358-9c52-4171-a98e-4ed052472678",
   "metadata": {},
   "source": [
    "# Auto-Encoder\n",
    "* Consists of 2 parts: The Encoder and the Decoder\n",
    "# Encoder\n",
    "* Define Input Dimensions and input shape for the Encoder\n",
    "* Initial Dimensions d = 784\n",
    "* Encode from d to d/4 (196) dimensions\n",
    "* Encode from d/4 to M (132) dimensions\n",
    "# Decoder (Reconstruct the initial dimensions of the images)\n",
    "* Decode from M (132) to d/4 (196)\n",
    "* Decode from d/4 (196) to d"
   ]
  },
  {
   "cell_type": "code",
   "execution_count": 169,
   "id": "7635a0e5-b820-43b2-b180-22c4b166680f",
   "metadata": {},
   "outputs": [],
   "source": [
    "import keras\n",
    "from keras import layers\n",
    "\n",
    "# Parameters\n",
    "input_dim = train_images_std.shape[1]  # d = 784\n",
    "encoding_dim = M  # M = 132 (from question a)\n",
    "\n",
    "# This is our input image\n",
    "input_img = keras.Input(shape=(input_dim,))\n",
    "# \"encoded\" is the encoded representation of the input\n",
    "#encoded = layers.Dense(input_dim, activation='relu')(input_img)\n",
    "encoded = layers.Dense(input_dim // 4, activation='relu')(input_img)\n",
    "encoded = layers.Dense(encoding_dim, activation='relu')(encoded)\n",
    "\n",
    "# \"decoded\" is the lossy reconstruction of the input\n",
    "#decoded = layers.Dense(encoding_dim, activation='relu')(encoded)\n",
    "decoded = layers.Dense(input_dim // 4, activation='relu')(encoded)\n",
    "decoded = layers.Dense(input_dim, activation='sigmoid')(decoded)\n",
    "\n",
    "# This model maps an input to its reconstruction\n",
    "autoencoder = keras.Model(input_img, decoded)"
   ]
  },
  {
   "cell_type": "markdown",
   "id": "8ff674d0-3bc1-45d3-9dc1-0430264bda4c",
   "metadata": {},
   "source": [
    "# Create Encoder and Decoder models seperatly (not needed ?)"
   ]
  },
  {
   "cell_type": "code",
   "execution_count": 170,
   "id": "705902f2-acdd-4112-9a0d-df08abb9aa4d",
   "metadata": {},
   "outputs": [
    {
     "name": "stdout",
     "output_type": "stream",
     "text": [
      "\u001b[1m313/313\u001b[0m \u001b[32m━━━━━━━━━━━━━━━━━━━━\u001b[0m\u001b[37m\u001b[0m \u001b[1m1s\u001b[0m 3ms/step\n",
      "\u001b[1m63/63\u001b[0m \u001b[32m━━━━━━━━━━━━━━━━━━━━\u001b[0m\u001b[37m\u001b[0m \u001b[1m0s\u001b[0m 1ms/step\n"
     ]
    }
   ],
   "source": [
    "# Encoder model\n",
    "encoder = keras.Model(input_img, encoded)\n",
    "\n",
    "# Decoder model\n",
    "# Create input layer for decoder\n",
    "decoder_input = keras.Input(shape=(encoding_dim,))\n",
    "# Retrieve the last layer of the autoencoder model\n",
    "decoder_layer = autoencoder.layers[-2](decoder_input)\n",
    "decoder_layer = autoencoder.layers[-1](decoder_layer)\n",
    "# Create the decoder model\n",
    "decoder = keras.Model(decoder_input, decoder_layer)\n",
    "\n",
    "\n",
    "# Step 1: Encode Data with the Encoder Model to dimensions M = 132\n",
    "train_images_encoder = encoder.predict(train_images_std)   # Encode training data\n",
    "test_images_encoder  = encoder.predict(test_images_std)    # Encode test data\n",
    "\n",
    "# Step 2: Decode Data with the Decoder Model to dimensions = d = 784\n",
    "#train_images_decoder = decoder.predict(train_images_encoder) # Decode training data\n",
    "#test_images_decoder = decoder.predict(test_images_encoder)   # Decode test data\n",
    "\n",
    "autoencoder.compile(optimizer='adam', loss='binary_crossentropy')"
   ]
  },
  {
   "cell_type": "markdown",
   "id": "ffd11cbf-eee8-45c0-8732-7f11e61969c9",
   "metadata": {},
   "source": [
    "# This will be needed for Compute Purity Funciton and Clustering"
   ]
  },
  {
   "cell_type": "code",
   "execution_count": 171,
   "id": "19372dac-dd2c-4f61-8c43-d43cc03830dc",
   "metadata": {},
   "outputs": [
    {
     "name": "stdout",
     "output_type": "stream",
     "text": [
      "Train images encoder shape:  (10000, 132)\n"
     ]
    }
   ],
   "source": [
    "print(\"Train images encoder shape: \",train_images_encoder.shape)\n",
    "#print(\"Train images decoder shape: \",train_images_decoder.shape)"
   ]
  },
  {
   "cell_type": "markdown",
   "id": "8fe1045b-f6f8-4c77-85e2-da6d49646864",
   "metadata": {},
   "source": [
    "# Train the Auto-Encoder\n",
    "The goal of the Auto-Encoder is:\n",
    "* Reduce the dimensions of the images (Encoder)\n",
    "* Reconstruct the images from the reduced dimensions to the original dimensions (Decoder)\n",
    "\n",
    "For this reason the X_train,y_train/X_test,y_test are the same images (Targets are the same as the initial images)"
   ]
  },
  {
   "cell_type": "code",
   "execution_count": 172,
   "id": "50025906-252b-4718-a1f9-494f35218ac9",
   "metadata": {},
   "outputs": [
    {
     "name": "stdout",
     "output_type": "stream",
     "text": [
      "Sampled Train images shape:  (10000, 784)\n",
      "Sampled Test  images shape:  (2000, 784)\n",
      "Epoch 1/50\n",
      "\u001b[1m40/40\u001b[0m \u001b[32m━━━━━━━━━━━━━━━━━━━━\u001b[0m\u001b[37m\u001b[0m \u001b[1m1s\u001b[0m 9ms/step - loss: 0.5857 - val_loss: 0.3924\n",
      "Epoch 2/50\n",
      "\u001b[1m40/40\u001b[0m \u001b[32m━━━━━━━━━━━━━━━━━━━━\u001b[0m\u001b[37m\u001b[0m \u001b[1m0s\u001b[0m 6ms/step - loss: 0.3779 - val_loss: 0.3475\n",
      "Epoch 3/50\n",
      "\u001b[1m40/40\u001b[0m \u001b[32m━━━━━━━━━━━━━━━━━━━━\u001b[0m\u001b[37m\u001b[0m \u001b[1m0s\u001b[0m 7ms/step - loss: 0.3396 - val_loss: 0.3272\n",
      "Epoch 4/50\n",
      "\u001b[1m40/40\u001b[0m \u001b[32m━━━━━━━━━━━━━━━━━━━━\u001b[0m\u001b[37m\u001b[0m \u001b[1m0s\u001b[0m 6ms/step - loss: 0.3219 - val_loss: 0.3173\n",
      "Epoch 5/50\n",
      "\u001b[1m40/40\u001b[0m \u001b[32m━━━━━━━━━━━━━━━━━━━━\u001b[0m\u001b[37m\u001b[0m \u001b[1m0s\u001b[0m 7ms/step - loss: 0.3116 - val_loss: 0.3184\n",
      "Epoch 6/50\n",
      "\u001b[1m40/40\u001b[0m \u001b[32m━━━━━━━━━━━━━━━━━━━━\u001b[0m\u001b[37m\u001b[0m \u001b[1m0s\u001b[0m 9ms/step - loss: 0.3103 - val_loss: 0.3079\n",
      "Epoch 7/50\n",
      "\u001b[1m40/40\u001b[0m \u001b[32m━━━━━━━━━━━━━━━━━━━━\u001b[0m\u001b[37m\u001b[0m \u001b[1m0s\u001b[0m 8ms/step - loss: 0.3067 - val_loss: 0.3049\n",
      "Epoch 8/50\n",
      "\u001b[1m40/40\u001b[0m \u001b[32m━━━━━━━━━━━━━━━━━━━━\u001b[0m\u001b[37m\u001b[0m \u001b[1m1s\u001b[0m 17ms/step - loss: 0.2998 - val_loss: 0.3020\n",
      "Epoch 9/50\n",
      "\u001b[1m40/40\u001b[0m \u001b[32m━━━━━━━━━━━━━━━━━━━━\u001b[0m\u001b[37m\u001b[0m \u001b[1m0s\u001b[0m 7ms/step - loss: 0.3005 - val_loss: 0.3004\n",
      "Epoch 10/50\n",
      "\u001b[1m40/40\u001b[0m \u001b[32m━━━━━━━━━━━━━━━━━━━━\u001b[0m\u001b[37m\u001b[0m \u001b[1m0s\u001b[0m 6ms/step - loss: 0.2971 - val_loss: 0.3029\n",
      "Epoch 11/50\n",
      "\u001b[1m40/40\u001b[0m \u001b[32m━━━━━━━━━━━━━━━━━━━━\u001b[0m\u001b[37m\u001b[0m \u001b[1m0s\u001b[0m 7ms/step - loss: 0.2972 - val_loss: 0.2965\n",
      "Epoch 12/50\n",
      "\u001b[1m40/40\u001b[0m \u001b[32m━━━━━━━━━━━━━━━━━━━━\u001b[0m\u001b[37m\u001b[0m \u001b[1m0s\u001b[0m 6ms/step - loss: 0.2932 - val_loss: 0.2952\n",
      "Epoch 13/50\n",
      "\u001b[1m40/40\u001b[0m \u001b[32m━━━━━━━━━━━━━━━━━━━━\u001b[0m\u001b[37m\u001b[0m \u001b[1m0s\u001b[0m 7ms/step - loss: 0.2911 - val_loss: 0.2931\n",
      "Epoch 14/50\n",
      "\u001b[1m40/40\u001b[0m \u001b[32m━━━━━━━━━━━━━━━━━━━━\u001b[0m\u001b[37m\u001b[0m \u001b[1m0s\u001b[0m 6ms/step - loss: 0.2907 - val_loss: 0.2939\n",
      "Epoch 15/50\n",
      "\u001b[1m40/40\u001b[0m \u001b[32m━━━━━━━━━━━━━━━━━━━━\u001b[0m\u001b[37m\u001b[0m \u001b[1m0s\u001b[0m 6ms/step - loss: 0.2897 - val_loss: 0.2914\n",
      "Epoch 16/50\n",
      "\u001b[1m40/40\u001b[0m \u001b[32m━━━━━━━━━━━━━━━━━━━━\u001b[0m\u001b[37m\u001b[0m \u001b[1m0s\u001b[0m 6ms/step - loss: 0.2887 - val_loss: 0.2916\n",
      "Epoch 17/50\n",
      "\u001b[1m40/40\u001b[0m \u001b[32m━━━━━━━━━━━━━━━━━━━━\u001b[0m\u001b[37m\u001b[0m \u001b[1m0s\u001b[0m 6ms/step - loss: 0.2878 - val_loss: 0.2893\n",
      "Epoch 18/50\n",
      "\u001b[1m40/40\u001b[0m \u001b[32m━━━━━━━━━━━━━━━━━━━━\u001b[0m\u001b[37m\u001b[0m \u001b[1m0s\u001b[0m 6ms/step - loss: 0.2859 - val_loss: 0.2892\n",
      "Epoch 19/50\n",
      "\u001b[1m40/40\u001b[0m \u001b[32m━━━━━━━━━━━━━━━━━━━━\u001b[0m\u001b[37m\u001b[0m \u001b[1m0s\u001b[0m 6ms/step - loss: 0.2844 - val_loss: 0.2881\n",
      "Epoch 20/50\n",
      "\u001b[1m40/40\u001b[0m \u001b[32m━━━━━━━━━━━━━━━━━━━━\u001b[0m\u001b[37m\u001b[0m \u001b[1m0s\u001b[0m 6ms/step - loss: 0.2854 - val_loss: 0.2868\n",
      "Epoch 21/50\n",
      "\u001b[1m40/40\u001b[0m \u001b[32m━━━━━━━━━━━━━━━━━━━━\u001b[0m\u001b[37m\u001b[0m \u001b[1m0s\u001b[0m 6ms/step - loss: 0.2827 - val_loss: 0.2861\n",
      "Epoch 22/50\n",
      "\u001b[1m40/40\u001b[0m \u001b[32m━━━━━━━━━━━━━━━━━━━━\u001b[0m\u001b[37m\u001b[0m \u001b[1m0s\u001b[0m 7ms/step - loss: 0.2836 - val_loss: 0.2863\n",
      "Epoch 23/50\n",
      "\u001b[1m40/40\u001b[0m \u001b[32m━━━━━━━━━━━━━━━━━━━━\u001b[0m\u001b[37m\u001b[0m \u001b[1m1s\u001b[0m 19ms/step - loss: 0.2811 - val_loss: 0.2852\n",
      "Epoch 24/50\n",
      "\u001b[1m40/40\u001b[0m \u001b[32m━━━━━━━━━━━━━━━━━━━━\u001b[0m\u001b[37m\u001b[0m \u001b[1m0s\u001b[0m 7ms/step - loss: 0.2829 - val_loss: 0.2844\n",
      "Epoch 25/50\n",
      "\u001b[1m40/40\u001b[0m \u001b[32m━━━━━━━━━━━━━━━━━━━━\u001b[0m\u001b[37m\u001b[0m \u001b[1m0s\u001b[0m 7ms/step - loss: 0.2823 - val_loss: 0.2842\n",
      "Epoch 26/50\n",
      "\u001b[1m40/40\u001b[0m \u001b[32m━━━━━━━━━━━━━━━━━━━━\u001b[0m\u001b[37m\u001b[0m \u001b[1m0s\u001b[0m 6ms/step - loss: 0.2804 - val_loss: 0.2844\n",
      "Epoch 27/50\n",
      "\u001b[1m40/40\u001b[0m \u001b[32m━━━━━━━━━━━━━━━━━━━━\u001b[0m\u001b[37m\u001b[0m \u001b[1m0s\u001b[0m 6ms/step - loss: 0.2801 - val_loss: 0.2830\n",
      "Epoch 28/50\n",
      "\u001b[1m40/40\u001b[0m \u001b[32m━━━━━━━━━━━━━━━━━━━━\u001b[0m\u001b[37m\u001b[0m \u001b[1m0s\u001b[0m 7ms/step - loss: 0.2782 - val_loss: 0.2827\n",
      "Epoch 29/50\n",
      "\u001b[1m40/40\u001b[0m \u001b[32m━━━━━━━━━━━━━━━━━━━━\u001b[0m\u001b[37m\u001b[0m \u001b[1m0s\u001b[0m 7ms/step - loss: 0.2789 - val_loss: 0.2825\n",
      "Epoch 30/50\n",
      "\u001b[1m40/40\u001b[0m \u001b[32m━━━━━━━━━━━━━━━━━━━━\u001b[0m\u001b[37m\u001b[0m \u001b[1m0s\u001b[0m 6ms/step - loss: 0.2779 - val_loss: 0.2821\n",
      "Epoch 31/50\n",
      "\u001b[1m40/40\u001b[0m \u001b[32m━━━━━━━━━━━━━━━━━━━━\u001b[0m\u001b[37m\u001b[0m \u001b[1m0s\u001b[0m 6ms/step - loss: 0.2778 - val_loss: 0.2815\n",
      "Epoch 32/50\n",
      "\u001b[1m40/40\u001b[0m \u001b[32m━━━━━━━━━━━━━━━━━━━━\u001b[0m\u001b[37m\u001b[0m \u001b[1m0s\u001b[0m 6ms/step - loss: 0.2783 - val_loss: 0.2811\n",
      "Epoch 33/50\n",
      "\u001b[1m40/40\u001b[0m \u001b[32m━━━━━━━━━━━━━━━━━━━━\u001b[0m\u001b[37m\u001b[0m \u001b[1m0s\u001b[0m 6ms/step - loss: 0.2777 - val_loss: 0.2808\n",
      "Epoch 34/50\n",
      "\u001b[1m40/40\u001b[0m \u001b[32m━━━━━━━━━━━━━━━━━━━━\u001b[0m\u001b[37m\u001b[0m \u001b[1m0s\u001b[0m 6ms/step - loss: 0.2772 - val_loss: 0.2809\n",
      "Epoch 35/50\n",
      "\u001b[1m40/40\u001b[0m \u001b[32m━━━━━━━━━━━━━━━━━━━━\u001b[0m\u001b[37m\u001b[0m \u001b[1m0s\u001b[0m 7ms/step - loss: 0.2770 - val_loss: 0.2803\n",
      "Epoch 36/50\n",
      "\u001b[1m40/40\u001b[0m \u001b[32m━━━━━━━━━━━━━━━━━━━━\u001b[0m\u001b[37m\u001b[0m \u001b[1m0s\u001b[0m 6ms/step - loss: 0.2754 - val_loss: 0.2804\n",
      "Epoch 37/50\n",
      "\u001b[1m40/40\u001b[0m \u001b[32m━━━━━━━━━━━━━━━━━━━━\u001b[0m\u001b[37m\u001b[0m \u001b[1m0s\u001b[0m 6ms/step - loss: 0.2770 - val_loss: 0.2795\n",
      "Epoch 38/50\n",
      "\u001b[1m40/40\u001b[0m \u001b[32m━━━━━━━━━━━━━━━━━━━━\u001b[0m\u001b[37m\u001b[0m \u001b[1m0s\u001b[0m 6ms/step - loss: 0.2757 - val_loss: 0.2793\n",
      "Epoch 39/50\n",
      "\u001b[1m40/40\u001b[0m \u001b[32m━━━━━━━━━━━━━━━━━━━━\u001b[0m\u001b[37m\u001b[0m \u001b[1m0s\u001b[0m 7ms/step - loss: 0.2771 - val_loss: 0.2816\n",
      "Epoch 40/50\n",
      "\u001b[1m40/40\u001b[0m \u001b[32m━━━━━━━━━━━━━━━━━━━━\u001b[0m\u001b[37m\u001b[0m \u001b[1m0s\u001b[0m 6ms/step - loss: 0.2754 - val_loss: 0.2797\n",
      "Epoch 41/50\n",
      "\u001b[1m40/40\u001b[0m \u001b[32m━━━━━━━━━━━━━━━━━━━━\u001b[0m\u001b[37m\u001b[0m \u001b[1m0s\u001b[0m 6ms/step - loss: 0.2759 - val_loss: 0.2787\n",
      "Epoch 42/50\n",
      "\u001b[1m40/40\u001b[0m \u001b[32m━━━━━━━━━━━━━━━━━━━━\u001b[0m\u001b[37m\u001b[0m \u001b[1m0s\u001b[0m 6ms/step - loss: 0.2727 - val_loss: 0.2787\n",
      "Epoch 43/50\n",
      "\u001b[1m40/40\u001b[0m \u001b[32m━━━━━━━━━━━━━━━━━━━━\u001b[0m\u001b[37m\u001b[0m \u001b[1m0s\u001b[0m 6ms/step - loss: 0.2750 - val_loss: 0.2782\n",
      "Epoch 44/50\n",
      "\u001b[1m40/40\u001b[0m \u001b[32m━━━━━━━━━━━━━━━━━━━━\u001b[0m\u001b[37m\u001b[0m \u001b[1m0s\u001b[0m 7ms/step - loss: 0.2741 - val_loss: 0.2802\n",
      "Epoch 45/50\n",
      "\u001b[1m40/40\u001b[0m \u001b[32m━━━━━━━━━━━━━━━━━━━━\u001b[0m\u001b[37m\u001b[0m \u001b[1m0s\u001b[0m 8ms/step - loss: 0.2755 - val_loss: 0.2777\n",
      "Epoch 46/50\n",
      "\u001b[1m40/40\u001b[0m \u001b[32m━━━━━━━━━━━━━━━━━━━━\u001b[0m\u001b[37m\u001b[0m \u001b[1m0s\u001b[0m 10ms/step - loss: 0.2747 - val_loss: 0.2774\n",
      "Epoch 47/50\n",
      "\u001b[1m40/40\u001b[0m \u001b[32m━━━━━━━━━━━━━━━━━━━━\u001b[0m\u001b[37m\u001b[0m \u001b[1m0s\u001b[0m 8ms/step - loss: 0.2723 - val_loss: 0.2779\n",
      "Epoch 48/50\n",
      "\u001b[1m40/40\u001b[0m \u001b[32m━━━━━━━━━━━━━━━━━━━━\u001b[0m\u001b[37m\u001b[0m \u001b[1m0s\u001b[0m 8ms/step - loss: 0.2730 - val_loss: 0.2774\n",
      "Epoch 49/50\n",
      "\u001b[1m40/40\u001b[0m \u001b[32m━━━━━━━━━━━━━━━━━━━━\u001b[0m\u001b[37m\u001b[0m \u001b[1m0s\u001b[0m 7ms/step - loss: 0.2738 - val_loss: 0.2768\n",
      "Epoch 50/50\n",
      "\u001b[1m40/40\u001b[0m \u001b[32m━━━━━━━━━━━━━━━━━━━━\u001b[0m\u001b[37m\u001b[0m \u001b[1m0s\u001b[0m 7ms/step - loss: 0.2728 - val_loss: 0.2767\n"
     ]
    },
    {
     "data": {
      "text/plain": [
       "<keras.src.callbacks.history.History at 0x1f633e7d100>"
      ]
     },
     "execution_count": 172,
     "metadata": {},
     "output_type": "execute_result"
    }
   ],
   "source": [
    "print(\"Sampled Train images shape: \",sampled_train_images.shape)\n",
    "print(\"Sampled Test  images shape: \",sampled_test_images.shape)\n",
    "\n",
    "autoencoder.fit(sampled_train_images, sampled_train_images,\n",
    "                epochs=50,\n",
    "                batch_size=256,\n",
    "                shuffle=True,\n",
    "                validation_data=(sampled_test_images, sampled_test_images))"
   ]
  },
  {
   "cell_type": "markdown",
   "id": "646c0e39-5e40-42b0-9155-49102b26838f",
   "metadata": {},
   "source": [
    "# Create the reconstructed images (predictions) of the Auto-Encoder\n",
    "* The dimensions of the reconstructed images from the autoencoder (and the decoder) should be the same as the initial dimensions of the images (d = 784)\n",
    "* Store those images to np.array"
   ]
  },
  {
   "cell_type": "code",
   "execution_count": 173,
   "id": "48368bfa-6505-4225-8ab5-7f0d4c29142c",
   "metadata": {},
   "outputs": [
    {
     "name": "stdout",
     "output_type": "stream",
     "text": [
      "\u001b[1m313/313\u001b[0m \u001b[32m━━━━━━━━━━━━━━━━━━━━\u001b[0m\u001b[37m\u001b[0m \u001b[1m0s\u001b[0m 1ms/step\n",
      "\u001b[1m63/63\u001b[0m \u001b[32m━━━━━━━━━━━━━━━━━━━━\u001b[0m\u001b[37m\u001b[0m \u001b[1m0s\u001b[0m 1ms/step\n"
     ]
    },
    {
     "data": {
      "text/html": [
       "<pre style=\"white-space:pre;overflow-x:auto;line-height:normal;font-family:Menlo,'DejaVu Sans Mono',consolas,'Courier New',monospace\"><span style=\"font-weight: bold\">Model: \"functional_65\"</span>\n",
       "</pre>\n"
      ],
      "text/plain": [
       "\u001b[1mModel: \"functional_65\"\u001b[0m\n"
      ]
     },
     "metadata": {},
     "output_type": "display_data"
    },
    {
     "data": {
      "text/html": [
       "<pre style=\"white-space:pre;overflow-x:auto;line-height:normal;font-family:Menlo,'DejaVu Sans Mono',consolas,'Courier New',monospace\">┏━━━━━━━━━━━━━━━━━━━━━━━━━━━━━━━━━━━━━━┳━━━━━━━━━━━━━━━━━━━━━━━━━━━━━┳━━━━━━━━━━━━━━━━━┓\n",
       "┃<span style=\"font-weight: bold\"> Layer (type)                         </span>┃<span style=\"font-weight: bold\"> Output Shape                </span>┃<span style=\"font-weight: bold\">         Param # </span>┃\n",
       "┡━━━━━━━━━━━━━━━━━━━━━━━━━━━━━━━━━━━━━━╇━━━━━━━━━━━━━━━━━━━━━━━━━━━━━╇━━━━━━━━━━━━━━━━━┩\n",
       "│ input_layer_23 (<span style=\"color: #0087ff; text-decoration-color: #0087ff\">InputLayer</span>)          │ (<span style=\"color: #00d7ff; text-decoration-color: #00d7ff\">None</span>, <span style=\"color: #00af00; text-decoration-color: #00af00\">784</span>)                 │               <span style=\"color: #00af00; text-decoration-color: #00af00\">0</span> │\n",
       "├──────────────────────────────────────┼─────────────────────────────┼─────────────────┤\n",
       "│ dense_48 (<span style=\"color: #0087ff; text-decoration-color: #0087ff\">Dense</span>)                     │ (<span style=\"color: #00d7ff; text-decoration-color: #00d7ff\">None</span>, <span style=\"color: #00af00; text-decoration-color: #00af00\">196</span>)                 │         <span style=\"color: #00af00; text-decoration-color: #00af00\">153,860</span> │\n",
       "├──────────────────────────────────────┼─────────────────────────────┼─────────────────┤\n",
       "│ dense_49 (<span style=\"color: #0087ff; text-decoration-color: #0087ff\">Dense</span>)                     │ (<span style=\"color: #00d7ff; text-decoration-color: #00d7ff\">None</span>, <span style=\"color: #00af00; text-decoration-color: #00af00\">132</span>)                 │          <span style=\"color: #00af00; text-decoration-color: #00af00\">26,004</span> │\n",
       "├──────────────────────────────────────┼─────────────────────────────┼─────────────────┤\n",
       "│ dense_50 (<span style=\"color: #0087ff; text-decoration-color: #0087ff\">Dense</span>)                     │ (<span style=\"color: #00d7ff; text-decoration-color: #00d7ff\">None</span>, <span style=\"color: #00af00; text-decoration-color: #00af00\">196</span>)                 │          <span style=\"color: #00af00; text-decoration-color: #00af00\">26,068</span> │\n",
       "├──────────────────────────────────────┼─────────────────────────────┼─────────────────┤\n",
       "│ dense_51 (<span style=\"color: #0087ff; text-decoration-color: #0087ff\">Dense</span>)                     │ (<span style=\"color: #00d7ff; text-decoration-color: #00d7ff\">None</span>, <span style=\"color: #00af00; text-decoration-color: #00af00\">784</span>)                 │         <span style=\"color: #00af00; text-decoration-color: #00af00\">154,448</span> │\n",
       "└──────────────────────────────────────┴─────────────────────────────┴─────────────────┘\n",
       "</pre>\n"
      ],
      "text/plain": [
       "┏━━━━━━━━━━━━━━━━━━━━━━━━━━━━━━━━━━━━━━┳━━━━━━━━━━━━━━━━━━━━━━━━━━━━━┳━━━━━━━━━━━━━━━━━┓\n",
       "┃\u001b[1m \u001b[0m\u001b[1mLayer (type)                        \u001b[0m\u001b[1m \u001b[0m┃\u001b[1m \u001b[0m\u001b[1mOutput Shape               \u001b[0m\u001b[1m \u001b[0m┃\u001b[1m \u001b[0m\u001b[1m        Param #\u001b[0m\u001b[1m \u001b[0m┃\n",
       "┡━━━━━━━━━━━━━━━━━━━━━━━━━━━━━━━━━━━━━━╇━━━━━━━━━━━━━━━━━━━━━━━━━━━━━╇━━━━━━━━━━━━━━━━━┩\n",
       "│ input_layer_23 (\u001b[38;5;33mInputLayer\u001b[0m)          │ (\u001b[38;5;45mNone\u001b[0m, \u001b[38;5;34m784\u001b[0m)                 │               \u001b[38;5;34m0\u001b[0m │\n",
       "├──────────────────────────────────────┼─────────────────────────────┼─────────────────┤\n",
       "│ dense_48 (\u001b[38;5;33mDense\u001b[0m)                     │ (\u001b[38;5;45mNone\u001b[0m, \u001b[38;5;34m196\u001b[0m)                 │         \u001b[38;5;34m153,860\u001b[0m │\n",
       "├──────────────────────────────────────┼─────────────────────────────┼─────────────────┤\n",
       "│ dense_49 (\u001b[38;5;33mDense\u001b[0m)                     │ (\u001b[38;5;45mNone\u001b[0m, \u001b[38;5;34m132\u001b[0m)                 │          \u001b[38;5;34m26,004\u001b[0m │\n",
       "├──────────────────────────────────────┼─────────────────────────────┼─────────────────┤\n",
       "│ dense_50 (\u001b[38;5;33mDense\u001b[0m)                     │ (\u001b[38;5;45mNone\u001b[0m, \u001b[38;5;34m196\u001b[0m)                 │          \u001b[38;5;34m26,068\u001b[0m │\n",
       "├──────────────────────────────────────┼─────────────────────────────┼─────────────────┤\n",
       "│ dense_51 (\u001b[38;5;33mDense\u001b[0m)                     │ (\u001b[38;5;45mNone\u001b[0m, \u001b[38;5;34m784\u001b[0m)                 │         \u001b[38;5;34m154,448\u001b[0m │\n",
       "└──────────────────────────────────────┴─────────────────────────────┴─────────────────┘\n"
      ]
     },
     "metadata": {},
     "output_type": "display_data"
    },
    {
     "data": {
      "text/html": [
       "<pre style=\"white-space:pre;overflow-x:auto;line-height:normal;font-family:Menlo,'DejaVu Sans Mono',consolas,'Courier New',monospace\"><span style=\"font-weight: bold\"> Total params: </span><span style=\"color: #00af00; text-decoration-color: #00af00\">1,081,142</span> (4.12 MB)\n",
       "</pre>\n"
      ],
      "text/plain": [
       "\u001b[1m Total params: \u001b[0m\u001b[38;5;34m1,081,142\u001b[0m (4.12 MB)\n"
      ]
     },
     "metadata": {},
     "output_type": "display_data"
    },
    {
     "data": {
      "text/html": [
       "<pre style=\"white-space:pre;overflow-x:auto;line-height:normal;font-family:Menlo,'DejaVu Sans Mono',consolas,'Courier New',monospace\"><span style=\"font-weight: bold\"> Trainable params: </span><span style=\"color: #00af00; text-decoration-color: #00af00\">360,380</span> (1.37 MB)\n",
       "</pre>\n"
      ],
      "text/plain": [
       "\u001b[1m Trainable params: \u001b[0m\u001b[38;5;34m360,380\u001b[0m (1.37 MB)\n"
      ]
     },
     "metadata": {},
     "output_type": "display_data"
    },
    {
     "data": {
      "text/html": [
       "<pre style=\"white-space:pre;overflow-x:auto;line-height:normal;font-family:Menlo,'DejaVu Sans Mono',consolas,'Courier New',monospace\"><span style=\"font-weight: bold\"> Non-trainable params: </span><span style=\"color: #00af00; text-decoration-color: #00af00\">0</span> (0.00 B)\n",
       "</pre>\n"
      ],
      "text/plain": [
       "\u001b[1m Non-trainable params: \u001b[0m\u001b[38;5;34m0\u001b[0m (0.00 B)\n"
      ]
     },
     "metadata": {},
     "output_type": "display_data"
    },
    {
     "data": {
      "text/html": [
       "<pre style=\"white-space:pre;overflow-x:auto;line-height:normal;font-family:Menlo,'DejaVu Sans Mono',consolas,'Courier New',monospace\"><span style=\"font-weight: bold\"> Optimizer params: </span><span style=\"color: #00af00; text-decoration-color: #00af00\">720,762</span> (2.75 MB)\n",
       "</pre>\n"
      ],
      "text/plain": [
       "\u001b[1m Optimizer params: \u001b[0m\u001b[38;5;34m720,762\u001b[0m (2.75 MB)\n"
      ]
     },
     "metadata": {},
     "output_type": "display_data"
    },
    {
     "name": "stdout",
     "output_type": "stream",
     "text": [
      "Original dimension: 784\n",
      "Autoencoder output shape: 784\n"
     ]
    }
   ],
   "source": [
    "# Make predictions \n",
    "train_images_autoencoder = autoencoder.predict(train_images_std)\n",
    "test_images_autoencoder = autoencoder.predict(test_images_std)\n",
    "\n",
    "# Print the model summary\n",
    "autoencoder.summary()\n",
    "\n",
    "print(\"Original dimension:\", train_images_std.shape[1])\n",
    "print(\"Autoencoder output shape:\", train_images_autoencoder.shape[1])"
   ]
  },
  {
   "cell_type": "code",
   "execution_count": 197,
   "id": "8d8afdb4-fa2a-49f2-af9e-978f2fe20ca7",
   "metadata": {},
   "outputs": [
    {
     "name": "stdout",
     "output_type": "stream",
     "text": [
      "Train images auto-encoder shape :  (10000, 784)\n",
      "Train images auto-encoder type  :  <class 'numpy.ndarray'>\n"
     ]
    }
   ],
   "source": [
    "print(\"Train images auto-encoder shape : \", train_images_autoencoder.shape)\n",
    "print(\"Train images auto-encoder type  : \", type(train_images_autoencoder))"
   ]
  },
  {
   "cell_type": "markdown",
   "id": "9b905169-c8f9-4140-9019-e35d7526fdff",
   "metadata": {},
   "source": [
    "# Use the CNN from Set 1:\n",
    "* This CNN had the most accuracy and validation accuracy in the previous set of exercises (Set 1)\n",
    "* As input, a CNN takes tensors of shape (image_height, image_width, color_channels) so we need to reshape our M dimension 1D array to 2D (image_height, image_width)\n",
    "* No need for color_channels because our images are grayscaled\n",
    "* (d = 132) 1D Array can be reshaped to (12, 11) 2D Array"
   ]
  },
  {
   "cell_type": "code",
   "execution_count": 198,
   "id": "f84305f8-ff1a-4941-8f23-b0652897e168",
   "metadata": {},
   "outputs": [
    {
     "name": "stdout",
     "output_type": "stream",
     "text": [
      "(10000, 132)\n"
     ]
    }
   ],
   "source": [
    "print(train_images_pca.shape)"
   ]
  },
  {
   "cell_type": "markdown",
   "id": "12f45225-ea7d-43fe-8b16-28ac82bf55cb",
   "metadata": {},
   "source": [
    "# Important Note\n",
    "* At this point we need define the correct 2D Matrix in order to convert the images\n",
    "* Modify the **reshape_dims** variable here if M != 132\n",
    "* We need to calculate two numbers: **x,y so that M = x*y**\n",
    "  \n",
    "**Solution 1**:\n",
    "* Use the **find_primitives.py** python script in order to find the x,y\n",
    "  \n",
    "**Solution 2**:\n",
    "* **Uncomment** the following part of the code below in order to reshpae every time (12,11) dimensions\n",
    "\n",
    "**Solution 3**:\n",
    "* Run the **'Samples Selection'** part of the code again (in order to achieve different results from the PCA Method)"
   ]
  },
  {
   "cell_type": "code",
   "execution_count": 199,
   "id": "08d31646-4e6e-438d-814b-cbe0d50c4fc6",
   "metadata": {},
   "outputs": [
    {
     "name": "stdout",
     "output_type": "stream",
     "text": [
      "Train images before reshape for CNN:  (10000, 132)\n",
      "Train images after  reshape for CNN:  (10000, 12, 11, 1)\n"
     ]
    }
   ],
   "source": [
    "import numpy as np\n",
    "from keras.datasets import fashion_mnist\n",
    "from keras.models import Sequential, Model\n",
    "from keras.layers import Input, Dense, Conv2D, MaxPooling2D, Flatten, Dropout\n",
    "from keras.optimizers import Adam\n",
    "from sklearn.preprocessing import StandardScaler\n",
    "from sklearn.decomposition import PCA\n",
    "import matplotlib.pyplot as plt\n",
    "\n",
    "reshape_dims = (12, 11)\n",
    "train_images_pca_cnn = train_images_pca\n",
    "test_images_pca_cnn = test_images_pca\n",
    "\n",
    "##########################################################################################################################################\n",
    "# This code is for custom dimensions #\n",
    "\n",
    "# Choose dimensions for reshaping\n",
    "#reshape_dims = (11, 13)  # Dimensions to reshape PCA output\n",
    "\n",
    "# Ensure the new shape fits the total number of features\n",
    "#num_features = np.prod(reshape_dims)\n",
    "#print(num_features)\n",
    "#print(train_images_pca.shape[1])\n",
    "#if num_features > train_images_pca.shape[1]:\n",
    "    # If reshape dims have more features, pad the PCA output with zeros\n",
    "#    train_images_pca_cnn = np.pad(train_images_pca_cnn, ((0, 0), (0, num_features - train_images_pca_cnn.shape[1])), 'constant')\n",
    "#    test_images_pca_cnn = np.pad(test_images_pca_cnn, ((0, 0), (0, num_features - test_images_pca_cnn.shape[1])), 'constant')\n",
    "#elif num_features < train_images_pca.shape[1]:\n",
    "    # If reshape dims have fewer features, truncate the PCA output\n",
    "#    train_images_pca_cnn = train_images_pca_cnn[:, :num_features]\n",
    "#    test_images_pca_cnn = test_images_pca_cnn[:, :num_features]\n",
    "##########################################################################################################################################\n",
    "\n",
    "# Reshape data to fit CNN input\n",
    "train_images_cnn = train_images_pca_cnn.reshape(-1, *reshape_dims, 1)\n",
    "test_images_cnn = test_images_pca_cnn.reshape(-1, *reshape_dims, 1)\n",
    "print(\"Train images before reshape for CNN: \",train_images_pca_cnn.shape)\n",
    "print(\"Train images after  reshape for CNN: \",train_images_cnn.shape)"
   ]
  },
  {
   "cell_type": "markdown",
   "id": "fb679c90-7c48-4872-8548-6ef580018e80",
   "metadata": {},
   "source": [
    "# Define the Model (Exact same with Set 1)"
   ]
  },
  {
   "cell_type": "code",
   "execution_count": 200,
   "id": "c848b5b3-e508-464f-9937-d912fae609bd",
   "metadata": {},
   "outputs": [
    {
     "name": "stdout",
     "output_type": "stream",
     "text": [
      "Total number of parameters in the model: 115376\n",
      "Epoch 1/50\n",
      "\u001b[1m40/40\u001b[0m \u001b[32m━━━━━━━━━━━━━━━━━━━━\u001b[0m\u001b[37m\u001b[0m \u001b[1m2s\u001b[0m 20ms/step - accuracy: 0.3545 - loss: 1.9236 - val_accuracy: 0.7365 - val_loss: 0.8197\n",
      "Epoch 2/50\n",
      "\u001b[1m40/40\u001b[0m \u001b[32m━━━━━━━━━━━━━━━━━━━━\u001b[0m\u001b[37m\u001b[0m \u001b[1m1s\u001b[0m 25ms/step - accuracy: 0.6736 - loss: 0.9402 - val_accuracy: 0.7920 - val_loss: 0.6042\n",
      "Epoch 3/50\n",
      "\u001b[1m40/40\u001b[0m \u001b[32m━━━━━━━━━━━━━━━━━━━━\u001b[0m\u001b[37m\u001b[0m \u001b[1m2s\u001b[0m 38ms/step - accuracy: 0.7237 - loss: 0.7690 - val_accuracy: 0.8110 - val_loss: 0.5263\n",
      "Epoch 4/50\n",
      "\u001b[1m40/40\u001b[0m \u001b[32m━━━━━━━━━━━━━━━━━━━━\u001b[0m\u001b[37m\u001b[0m \u001b[1m2s\u001b[0m 37ms/step - accuracy: 0.7686 - loss: 0.6560 - val_accuracy: 0.8305 - val_loss: 0.4869\n",
      "Epoch 5/50\n",
      "\u001b[1m40/40\u001b[0m \u001b[32m━━━━━━━━━━━━━━━━━━━━\u001b[0m\u001b[37m\u001b[0m \u001b[1m1s\u001b[0m 31ms/step - accuracy: 0.7953 - loss: 0.5837 - val_accuracy: 0.8340 - val_loss: 0.4647\n",
      "Epoch 6/50\n",
      "\u001b[1m40/40\u001b[0m \u001b[32m━━━━━━━━━━━━━━━━━━━━\u001b[0m\u001b[37m\u001b[0m \u001b[1m1s\u001b[0m 34ms/step - accuracy: 0.8017 - loss: 0.5426 - val_accuracy: 0.8435 - val_loss: 0.4486\n",
      "Epoch 7/50\n",
      "\u001b[1m40/40\u001b[0m \u001b[32m━━━━━━━━━━━━━━━━━━━━\u001b[0m\u001b[37m\u001b[0m \u001b[1m1s\u001b[0m 34ms/step - accuracy: 0.8207 - loss: 0.5041 - val_accuracy: 0.8500 - val_loss: 0.4325\n",
      "Epoch 8/50\n",
      "\u001b[1m40/40\u001b[0m \u001b[32m━━━━━━━━━━━━━━━━━━━━\u001b[0m\u001b[37m\u001b[0m \u001b[1m1s\u001b[0m 33ms/step - accuracy: 0.8240 - loss: 0.4834 - val_accuracy: 0.8415 - val_loss: 0.4352\n",
      "Epoch 9/50\n",
      "\u001b[1m40/40\u001b[0m \u001b[32m━━━━━━━━━━━━━━━━━━━━\u001b[0m\u001b[37m\u001b[0m \u001b[1m1s\u001b[0m 34ms/step - accuracy: 0.8254 - loss: 0.4783 - val_accuracy: 0.8420 - val_loss: 0.4356\n",
      "Epoch 10/50\n",
      "\u001b[1m40/40\u001b[0m \u001b[32m━━━━━━━━━━━━━━━━━━━━\u001b[0m\u001b[37m\u001b[0m \u001b[1m2s\u001b[0m 38ms/step - accuracy: 0.8402 - loss: 0.4511 - val_accuracy: 0.8410 - val_loss: 0.4307\n",
      "Epoch 11/50\n",
      "\u001b[1m40/40\u001b[0m \u001b[32m━━━━━━━━━━━━━━━━━━━━\u001b[0m\u001b[37m\u001b[0m \u001b[1m1s\u001b[0m 32ms/step - accuracy: 0.8391 - loss: 0.4367 - val_accuracy: 0.8475 - val_loss: 0.4404\n",
      "Epoch 12/50\n",
      "\u001b[1m40/40\u001b[0m \u001b[32m━━━━━━━━━━━━━━━━━━━━\u001b[0m\u001b[37m\u001b[0m \u001b[1m1s\u001b[0m 33ms/step - accuracy: 0.8506 - loss: 0.4074 - val_accuracy: 0.8490 - val_loss: 0.4358\n",
      "Epoch 13/50\n",
      "\u001b[1m40/40\u001b[0m \u001b[32m━━━━━━━━━━━━━━━━━━━━\u001b[0m\u001b[37m\u001b[0m \u001b[1m1s\u001b[0m 36ms/step - accuracy: 0.8358 - loss: 0.4310 - val_accuracy: 0.8545 - val_loss: 0.4306\n",
      "Epoch 14/50\n",
      "\u001b[1m40/40\u001b[0m \u001b[32m━━━━━━━━━━━━━━━━━━━━\u001b[0m\u001b[37m\u001b[0m \u001b[1m1s\u001b[0m 35ms/step - accuracy: 0.8615 - loss: 0.3858 - val_accuracy: 0.8535 - val_loss: 0.4328\n",
      "Epoch 15/50\n",
      "\u001b[1m40/40\u001b[0m \u001b[32m━━━━━━━━━━━━━━━━━━━━\u001b[0m\u001b[37m\u001b[0m \u001b[1m1s\u001b[0m 30ms/step - accuracy: 0.8675 - loss: 0.3574 - val_accuracy: 0.8485 - val_loss: 0.4346\n",
      "Epoch 16/50\n",
      "\u001b[1m40/40\u001b[0m \u001b[32m━━━━━━━━━━━━━━━━━━━━\u001b[0m\u001b[37m\u001b[0m \u001b[1m1s\u001b[0m 34ms/step - accuracy: 0.8745 - loss: 0.3439 - val_accuracy: 0.8595 - val_loss: 0.4208\n",
      "Epoch 17/50\n",
      "\u001b[1m40/40\u001b[0m \u001b[32m━━━━━━━━━━━━━━━━━━━━\u001b[0m\u001b[37m\u001b[0m \u001b[1m1s\u001b[0m 29ms/step - accuracy: 0.8721 - loss: 0.3400 - val_accuracy: 0.8620 - val_loss: 0.4230\n",
      "Epoch 18/50\n",
      "\u001b[1m40/40\u001b[0m \u001b[32m━━━━━━━━━━━━━━━━━━━━\u001b[0m\u001b[37m\u001b[0m \u001b[1m2s\u001b[0m 38ms/step - accuracy: 0.8830 - loss: 0.3185 - val_accuracy: 0.8570 - val_loss: 0.4185\n",
      "Epoch 19/50\n",
      "\u001b[1m40/40\u001b[0m \u001b[32m━━━━━━━━━━━━━━━━━━━━\u001b[0m\u001b[37m\u001b[0m \u001b[1m1s\u001b[0m 27ms/step - accuracy: 0.8884 - loss: 0.3022 - val_accuracy: 0.8500 - val_loss: 0.4423\n",
      "Epoch 20/50\n",
      "\u001b[1m40/40\u001b[0m \u001b[32m━━━━━━━━━━━━━━━━━━━━\u001b[0m\u001b[37m\u001b[0m \u001b[1m2s\u001b[0m 38ms/step - accuracy: 0.8730 - loss: 0.3309 - val_accuracy: 0.8610 - val_loss: 0.4360\n",
      "Epoch 21/50\n",
      "\u001b[1m40/40\u001b[0m \u001b[32m━━━━━━━━━━━━━━━━━━━━\u001b[0m\u001b[37m\u001b[0m \u001b[1m1s\u001b[0m 19ms/step - accuracy: 0.8891 - loss: 0.2995 - val_accuracy: 0.8580 - val_loss: 0.4371\n",
      "Epoch 22/50\n",
      "\u001b[1m40/40\u001b[0m \u001b[32m━━━━━━━━━━━━━━━━━━━━\u001b[0m\u001b[37m\u001b[0m \u001b[1m2s\u001b[0m 36ms/step - accuracy: 0.8913 - loss: 0.2769 - val_accuracy: 0.8555 - val_loss: 0.4546\n",
      "Epoch 23/50\n",
      "\u001b[1m40/40\u001b[0m \u001b[32m━━━━━━━━━━━━━━━━━━━━\u001b[0m\u001b[37m\u001b[0m \u001b[1m1s\u001b[0m 33ms/step - accuracy: 0.8946 - loss: 0.2771 - val_accuracy: 0.8545 - val_loss: 0.4630\n",
      "Epoch 24/50\n",
      "\u001b[1m40/40\u001b[0m \u001b[32m━━━━━━━━━━━━━━━━━━━━\u001b[0m\u001b[37m\u001b[0m \u001b[1m1s\u001b[0m 29ms/step - accuracy: 0.8935 - loss: 0.2798 - val_accuracy: 0.8565 - val_loss: 0.4569\n",
      "Epoch 25/50\n",
      "\u001b[1m40/40\u001b[0m \u001b[32m━━━━━━━━━━━━━━━━━━━━\u001b[0m\u001b[37m\u001b[0m \u001b[1m1s\u001b[0m 31ms/step - accuracy: 0.8728 - loss: 0.3108 - val_accuracy: 0.8545 - val_loss: 0.4501\n",
      "Epoch 26/50\n",
      "\u001b[1m40/40\u001b[0m \u001b[32m━━━━━━━━━━━━━━━━━━━━\u001b[0m\u001b[37m\u001b[0m \u001b[1m1s\u001b[0m 33ms/step - accuracy: 0.8868 - loss: 0.2896 - val_accuracy: 0.8535 - val_loss: 0.4632\n",
      "Epoch 27/50\n",
      "\u001b[1m40/40\u001b[0m \u001b[32m━━━━━━━━━━━━━━━━━━━━\u001b[0m\u001b[37m\u001b[0m \u001b[1m1s\u001b[0m 30ms/step - accuracy: 0.9026 - loss: 0.2529 - val_accuracy: 0.8620 - val_loss: 0.4628\n",
      "Epoch 28/50\n",
      "\u001b[1m40/40\u001b[0m \u001b[32m━━━━━━━━━━━━━━━━━━━━\u001b[0m\u001b[37m\u001b[0m \u001b[1m1s\u001b[0m 19ms/step - accuracy: 0.9046 - loss: 0.2346 - val_accuracy: 0.8530 - val_loss: 0.4616\n",
      "Epoch 29/50\n",
      "\u001b[1m40/40\u001b[0m \u001b[32m━━━━━━━━━━━━━━━━━━━━\u001b[0m\u001b[37m\u001b[0m \u001b[1m1s\u001b[0m 30ms/step - accuracy: 0.9111 - loss: 0.2322 - val_accuracy: 0.8655 - val_loss: 0.4792\n",
      "Epoch 30/50\n",
      "\u001b[1m40/40\u001b[0m \u001b[32m━━━━━━━━━━━━━━━━━━━━\u001b[0m\u001b[37m\u001b[0m \u001b[1m1s\u001b[0m 17ms/step - accuracy: 0.9204 - loss: 0.2150 - val_accuracy: 0.8525 - val_loss: 0.5020\n",
      "Epoch 31/50\n",
      "\u001b[1m40/40\u001b[0m \u001b[32m━━━━━━━━━━━━━━━━━━━━\u001b[0m\u001b[37m\u001b[0m \u001b[1m1s\u001b[0m 35ms/step - accuracy: 0.9198 - loss: 0.2131 - val_accuracy: 0.8605 - val_loss: 0.4868\n",
      "Epoch 32/50\n",
      "\u001b[1m40/40\u001b[0m \u001b[32m━━━━━━━━━━━━━━━━━━━━\u001b[0m\u001b[37m\u001b[0m \u001b[1m1s\u001b[0m 32ms/step - accuracy: 0.9013 - loss: 0.2485 - val_accuracy: 0.8590 - val_loss: 0.5171\n",
      "Epoch 33/50\n",
      "\u001b[1m40/40\u001b[0m \u001b[32m━━━━━━━━━━━━━━━━━━━━\u001b[0m\u001b[37m\u001b[0m \u001b[1m1s\u001b[0m 31ms/step - accuracy: 0.9053 - loss: 0.2429 - val_accuracy: 0.8600 - val_loss: 0.5079\n",
      "Epoch 34/50\n",
      "\u001b[1m40/40\u001b[0m \u001b[32m━━━━━━━━━━━━━━━━━━━━\u001b[0m\u001b[37m\u001b[0m \u001b[1m1s\u001b[0m 30ms/step - accuracy: 0.9164 - loss: 0.2075 - val_accuracy: 0.8630 - val_loss: 0.5094\n",
      "Epoch 35/50\n",
      "\u001b[1m40/40\u001b[0m \u001b[32m━━━━━━━━━━━━━━━━━━━━\u001b[0m\u001b[37m\u001b[0m \u001b[1m1s\u001b[0m 23ms/step - accuracy: 0.9238 - loss: 0.1927 - val_accuracy: 0.8620 - val_loss: 0.5440\n",
      "Epoch 36/50\n",
      "\u001b[1m40/40\u001b[0m \u001b[32m━━━━━━━━━━━━━━━━━━━━\u001b[0m\u001b[37m\u001b[0m \u001b[1m1s\u001b[0m 25ms/step - accuracy: 0.9262 - loss: 0.1854 - val_accuracy: 0.8675 - val_loss: 0.5134\n",
      "Epoch 37/50\n",
      "\u001b[1m40/40\u001b[0m \u001b[32m━━━━━━━━━━━━━━━━━━━━\u001b[0m\u001b[37m\u001b[0m \u001b[1m1s\u001b[0m 32ms/step - accuracy: 0.9197 - loss: 0.1909 - val_accuracy: 0.8590 - val_loss: 0.5601\n",
      "Epoch 38/50\n",
      "\u001b[1m40/40\u001b[0m \u001b[32m━━━━━━━━━━━━━━━━━━━━\u001b[0m\u001b[37m\u001b[0m \u001b[1m1s\u001b[0m 20ms/step - accuracy: 0.9215 - loss: 0.1830 - val_accuracy: 0.8685 - val_loss: 0.5446\n",
      "Epoch 39/50\n",
      "\u001b[1m40/40\u001b[0m \u001b[32m━━━━━━━━━━━━━━━━━━━━\u001b[0m\u001b[37m\u001b[0m \u001b[1m1s\u001b[0m 19ms/step - accuracy: 0.9358 - loss: 0.1583 - val_accuracy: 0.8570 - val_loss: 0.5511\n",
      "Epoch 40/50\n",
      "\u001b[1m40/40\u001b[0m \u001b[32m━━━━━━━━━━━━━━━━━━━━\u001b[0m\u001b[37m\u001b[0m \u001b[1m1s\u001b[0m 31ms/step - accuracy: 0.9305 - loss: 0.1748 - val_accuracy: 0.8600 - val_loss: 0.5349\n",
      "Epoch 41/50\n",
      "\u001b[1m40/40\u001b[0m \u001b[32m━━━━━━━━━━━━━━━━━━━━\u001b[0m\u001b[37m\u001b[0m \u001b[1m1s\u001b[0m 31ms/step - accuracy: 0.9113 - loss: 0.2064 - val_accuracy: 0.8575 - val_loss: 0.5315\n",
      "Epoch 42/50\n",
      "\u001b[1m40/40\u001b[0m \u001b[32m━━━━━━━━━━━━━━━━━━━━\u001b[0m\u001b[37m\u001b[0m \u001b[1m1s\u001b[0m 24ms/step - accuracy: 0.9266 - loss: 0.1796 - val_accuracy: 0.8580 - val_loss: 0.5757\n",
      "Epoch 43/50\n",
      "\u001b[1m40/40\u001b[0m \u001b[32m━━━━━━━━━━━━━━━━━━━━\u001b[0m\u001b[37m\u001b[0m \u001b[1m1s\u001b[0m 32ms/step - accuracy: 0.9360 - loss: 0.1647 - val_accuracy: 0.8615 - val_loss: 0.5449\n",
      "Epoch 44/50\n",
      "\u001b[1m40/40\u001b[0m \u001b[32m━━━━━━━━━━━━━━━━━━━━\u001b[0m\u001b[37m\u001b[0m \u001b[1m1s\u001b[0m 32ms/step - accuracy: 0.9290 - loss: 0.1738 - val_accuracy: 0.8640 - val_loss: 0.5842\n",
      "Epoch 45/50\n",
      "\u001b[1m40/40\u001b[0m \u001b[32m━━━━━━━━━━━━━━━━━━━━\u001b[0m\u001b[37m\u001b[0m \u001b[1m1s\u001b[0m 31ms/step - accuracy: 0.9390 - loss: 0.1445 - val_accuracy: 0.8575 - val_loss: 0.6089\n",
      "Epoch 46/50\n",
      "\u001b[1m40/40\u001b[0m \u001b[32m━━━━━━━━━━━━━━━━━━━━\u001b[0m\u001b[37m\u001b[0m \u001b[1m1s\u001b[0m 23ms/step - accuracy: 0.9421 - loss: 0.1408 - val_accuracy: 0.8600 - val_loss: 0.6105\n",
      "Epoch 47/50\n",
      "\u001b[1m40/40\u001b[0m \u001b[32m━━━━━━━━━━━━━━━━━━━━\u001b[0m\u001b[37m\u001b[0m \u001b[1m1s\u001b[0m 33ms/step - accuracy: 0.9362 - loss: 0.1527 - val_accuracy: 0.8535 - val_loss: 0.6164\n",
      "Epoch 48/50\n",
      "\u001b[1m40/40\u001b[0m \u001b[32m━━━━━━━━━━━━━━━━━━━━\u001b[0m\u001b[37m\u001b[0m \u001b[1m1s\u001b[0m 25ms/step - accuracy: 0.9390 - loss: 0.1456 - val_accuracy: 0.8595 - val_loss: 0.6411\n",
      "Epoch 49/50\n",
      "\u001b[1m40/40\u001b[0m \u001b[32m━━━━━━━━━━━━━━━━━━━━\u001b[0m\u001b[37m\u001b[0m \u001b[1m1s\u001b[0m 32ms/step - accuracy: 0.9313 - loss: 0.1617 - val_accuracy: 0.8555 - val_loss: 0.6056\n",
      "Epoch 50/50\n",
      "\u001b[1m40/40\u001b[0m \u001b[32m━━━━━━━━━━━━━━━━━━━━\u001b[0m\u001b[37m\u001b[0m \u001b[1m1s\u001b[0m 30ms/step - accuracy: 0.9241 - loss: 0.1835 - val_accuracy: 0.8595 - val_loss: 0.6324\n",
      "Final Training Accuracy: 0.9294999837875366\n",
      "Final Validation Accuracy: 0.859499990940094\n"
     ]
    },
    {
     "data": {
      "image/png": "[encoded data removed]",
      "text/plain": [
       "<Figure size 1200x400 with 2 Axes>"
      ]
     },
     "metadata": {},
     "output_type": "display_data"
    }
   ],
   "source": [
    "# Define the CNN model\n",
    "model = Sequential([\n",
    "    Input(shape=(reshape_dims[0], reshape_dims[1], 1)),  # Update input shape\n",
    "    Conv2D(32, (3, 3), activation='relu', padding='same'),\n",
    "    Conv2D(64, (3, 3), activation='relu', padding='same'),\n",
    "    MaxPooling2D((2, 2)),\n",
    "    Flatten(),\n",
    "    Dense(50, activation='relu'),\n",
    "    Dropout(0.4),\n",
    "    Dense(10, activation='softmax')\n",
    "])\n",
    "\n",
    "# Total number of parameters in the model\n",
    "num_parameters = model.count_params()\n",
    "print(\"Total number of parameters in the model:\", num_parameters)\n",
    "\n",
    "# Compile the model\n",
    "model.compile(optimizer=Adam(), loss='sparse_categorical_crossentropy', metrics=['accuracy'])\n",
    "\n",
    "# Train the model\n",
    "history = model.fit(train_images_cnn, sampled_train_labels, epochs=50, batch_size=256, validation_data=(test_images_cnn, sampled_test_labels))\n",
    "\n",
    "\n",
    "# Extract final accuracy from history object\n",
    "final_training_accuracy = history.history['accuracy'][-1]\n",
    "final_validation_accuracy = history.history['val_accuracy'][-1]\n",
    "\n",
    "print(\"Final Training Accuracy:\", final_training_accuracy)\n",
    "print(\"Final Validation Accuracy:\", final_validation_accuracy)\n",
    "\n",
    "# Plot the loss function and accuracy\n",
    "plt.figure(figsize=(12, 4))\n",
    "plt.subplot(1, 2, 1)\n",
    "plt.plot(history.history['loss'], label='Training Loss')\n",
    "plt.plot(history.history['val_loss'], label='Validation Loss')\n",
    "plt.xlabel('Epoch')\n",
    "plt.ylabel('Loss')\n",
    "plt.legend()\n",
    "plt.title('Training and Validation Loss')\n",
    "\n",
    "plt.subplot(1, 2, 2)\n",
    "plt.plot(history.history['accuracy'], label='Training Accuracy')\n",
    "plt.plot(history.history['val_accuracy'], label='Validation Accuracy')\n",
    "plt.xlabel('Epoch')\n",
    "plt.ylabel('Accuracy')\n",
    "plt.legend()\n",
    "plt.title('Training and Validation Accuracy')\n",
    "\n",
    "plt.show()"
   ]
  },
  {
   "cell_type": "markdown",
   "id": "93ae657d-d484-4779-961d-061981e107ed",
   "metadata": {},
   "source": [
    " # We note that we achieved better Validation Accuracy \n",
    " # with the reduced data dimensions (M = 132) "
   ]
  },
  {
   "cell_type": "code",
   "execution_count": 201,
   "id": "29d08eae-94cd-4dfa-9b75-ee2982f5ab9f",
   "metadata": {},
   "outputs": [
    {
     "name": "stdout",
     "output_type": "stream",
     "text": [
      "train_images_pca_cnn (shape): (10000, 132)\n",
      "test_images_pca_cnn (shape): (2000, 132)\n",
      "train_images_autoencoder (shape): (10000, 784)\n",
      "test_images_autoencoder (shape): (2000, 784)\n",
      "train_images_pca (shape): (10000, 132)\n",
      "test_images_pca (shape): (2000, 132)\n"
     ]
    }
   ],
   "source": [
    "print(\"train_images_pca_cnn (shape): {}\".format(train_images_pca_cnn.shape))\n",
    "print(\"test_images_pca_cnn (shape): {}\".format(test_images_pca_cnn.shape))\n",
    "print(\"train_images_autoencoder (shape): {}\".format(train_images_autoencoder.shape))\n",
    "print(\"test_images_autoencoder (shape): {}\".format(test_images_autoencoder.shape))\n",
    "print(\"train_images_pca (shape): {}\".format(train_images_pca.shape))\n",
    "print(\"test_images_pca (shape): {}\".format(test_images_pca.shape))"
   ]
  },
  {
   "cell_type": "markdown",
   "id": "84f97e0d-3518-4423-9217-57ad86b5217b",
   "metadata": {},
   "source": [
    "# Find the optimal K value for PCA, Auto-Encoder and Encoder train images\n",
    "\n",
    "With K-Means algorithm:\n",
    "* Compute the silhoutte score for each K (range from 10 to 20) number of points in order to identify the label of the current element\n",
    "* Plot the Values of the silhoutte scores for all K values for both PCA and Auto-Encoder\n",
    "\n",
    "**Silhouette scores generally range from -1 to 1, where:**\n",
    "\n",
    "* A score close to 1 indicates that the samples are well-clustered, meaning they are far from the neighboring clusters.\n",
    "* A score around 0 indicates that the samples are on or very close to the decision boundary between two neighboring clusters.\n",
    "* A score close to -1 indicates that the samples might have been assigned to the wrong clusters."
   ]
  },
  {
   "cell_type": "code",
   "execution_count": 202,
   "id": "7d4dcda4-2b26-479a-b8e2-317420e3f78e",
   "metadata": {},
   "outputs": [
    {
     "name": "stdout",
     "output_type": "stream",
     "text": [
      "Starting...\n",
      "This might take a while...\n",
      "Done for PCA\n",
      "Done for Auto-Encoder\n",
      "Done for Encoder\n"
     ]
    },
    {
     "data": {
      "image/png": "[encoded data removed]",
      "text/plain": [
       "<Figure size 1400x700 with 3 Axes>"
      ]
     },
     "metadata": {},
     "output_type": "display_data"
    }
   ],
   "source": [
    "import numpy as np\n",
    "import pandas as pd\n",
    "from sklearn.cluster import KMeans\n",
    "from sklearn.metrics import silhouette_score\n",
    "import matplotlib.pyplot as plt\n",
    "\n",
    "# Define a range for K\n",
    "K_range = range(10, 21)\n",
    "K_values_pca = []\n",
    "K_values_autoencoder = []\n",
    "K_values_encoder = []\n",
    "\n",
    "# Function to perform K-Means clustering and compute silhouette scores\n",
    "def compute_silhouette_scores(data, K_range, K_values):\n",
    "    silhouette_scores = []\n",
    "    for K in K_range:\n",
    "        kmeans = KMeans(n_clusters=K, random_state=42)\n",
    "        labels = kmeans.fit_predict(data)\n",
    "        score = silhouette_score(data, labels)\n",
    "        silhouette_scores.append(score)\n",
    "        K_values.append(K)\n",
    "    return silhouette_scores\n",
    "print(\"Starting...\")\n",
    "print(\"This might take a while...\")\n",
    "\n",
    "# Compute silhouette scores for PCA data\n",
    "silhouette_scores_pca = compute_silhouette_scores(train_images_pca, K_range, K_values_pca)\n",
    "print(\"Done for PCA\")\n",
    "\n",
    "# Compute silhouette scores for Auto-Encoder data\n",
    "silhouette_scores_autoencoder = compute_silhouette_scores(train_images_autoencoder, K_range, K_values_autoencoder)\n",
    "print(\"Done for Auto-Encoder\")\n",
    "\n",
    "# Compute silhouette scores for Encoder data\n",
    "silhouette_scores_encoder = compute_silhouette_scores(train_images_encoder, K_range, K_values_encoder)\n",
    "print(\"Done for Encoder\")\n",
    "\n",
    "# Plotting the silhouette scores\n",
    "plt.figure(figsize=(14, 7))\n",
    "\n",
    "plt.subplot(1, 3, 1)\n",
    "plt.plot(K_range, silhouette_scores_pca, marker='o')\n",
    "plt.title('Silhouette Scores for PCA Data')\n",
    "plt.xlabel('Number of Clusters (K)')\n",
    "plt.ylabel('Silhouette Score')\n",
    "\n",
    "plt.subplot(1, 3, 2)\n",
    "plt.plot(K_range, silhouette_scores_autoencoder, marker='o')\n",
    "plt.title('Silhouette Scores for Autoencoder Data')\n",
    "plt.xlabel('Number of Clusters (K)')\n",
    "plt.ylabel('Silhouette Score')\n",
    "\n",
    "plt.subplot(1, 3, 3)\n",
    "plt.plot(K_range, silhouette_scores_encoder, marker='o')\n",
    "plt.title('Silhouette Scores for Encoder Data')\n",
    "plt.xlabel('Number of Clusters (K)')\n",
    "plt.ylabel('Silhouette Score')\n",
    "\n",
    "plt.tight_layout()\n",
    "plt.show()"
   ]
  },
  {
   "cell_type": "markdown",
   "id": "0dbc2b7a-7676-474e-b913-94e07356ed86",
   "metadata": {},
   "source": [
    "# Automatically retrieve the optimal value for the PCA, Auto-Encoder and Encoder Models"
   ]
  },
  {
   "cell_type": "code",
   "execution_count": 203,
   "id": "27cffb31-8e3c-435d-a209-4da29e1c103e",
   "metadata": {},
   "outputs": [
    {
     "name": "stdout",
     "output_type": "stream",
     "text": [
      "Maximum Silhouette score for the PCA          :  0.14589098\n",
      "Maximum Silhouette score for the Auto-Encoder :  0.21205586\n",
      "Maximum Silhouette score for the Encoder      :  0.09941038\n",
      "Index position for the PCA          :  1\n",
      "Index position for the Auto-Encoder :  0\n",
      "Index position for the      Encoder :  0\n",
      "K_values for PCA         :  [10, 11, 12, 13, 14, 15, 16, 17, 18, 19, 20]\n",
      "K_values for Autoencoder :  [10, 11, 12, 13, 14, 15, 16, 17, 18, 19, 20]\n",
      "K_values for Autoencoder :  [10, 11, 12, 13, 14, 15, 16, 17, 18, 19, 20]\n"
     ]
    }
   ],
   "source": [
    "print(\"Maximum Silhouette score for the PCA          : \",max(silhouette_scores_pca))\n",
    "print(\"Maximum Silhouette score for the Auto-Encoder : \",max(silhouette_scores_autoencoder))\n",
    "print(\"Maximum Silhouette score for the Encoder      : \",max(silhouette_scores_encoder))\n",
    "print(\"Index position for the PCA          : \",silhouette_scores_pca.index(max(silhouette_scores_pca)))\n",
    "print(\"Index position for the Auto-Encoder : \",silhouette_scores_autoencoder.index(max(silhouette_scores_autoencoder)))\n",
    "print(\"Index position for the      Encoder : \",silhouette_scores_encoder.index(max(silhouette_scores_encoder)))\n",
    "print(\"K_values for PCA         : \",K_values_pca)\n",
    "print(\"K_values for Autoencoder : \",K_values_autoencoder)\n",
    "print(\"K_values for Autoencoder : \",K_values_encoder)"
   ]
  },
  {
   "cell_type": "code",
   "execution_count": 204,
   "id": "c445b325-f984-4b80-b17b-16f23c1e1a04",
   "metadata": {},
   "outputs": [
    {
     "name": "stdout",
     "output_type": "stream",
     "text": [
      "Optimal K value for PCA          :  11\n",
      "Optimal K value for Auto-Encoder :  10\n",
      "Optimal K value for      Encoder :  10\n"
     ]
    }
   ],
   "source": [
    "optimal_K_pca = K_values_pca[silhouette_scores_pca.index(max(silhouette_scores_pca))]\n",
    "optimal_K_autoencoder = K_values_autoencoder[silhouette_scores_autoencoder.index(max(silhouette_scores_autoencoder))]\n",
    "optimal_K_encoder = K_values_encoder[silhouette_scores_encoder.index(max(silhouette_scores_encoder))]\n",
    "print(\"Optimal K value for PCA          : \",optimal_K_pca)\n",
    "print(\"Optimal K value for Auto-Encoder : \",optimal_K_autoencoder)\n",
    "print(\"Optimal K value for      Encoder : \",optimal_K_encoder)"
   ]
  },
  {
   "cell_type": "markdown",
   "id": "bb78ff4c-2436-49ef-9936-7c979d0586ea",
   "metadata": {},
   "source": [
    "# Perform K-Means Clustering"
   ]
  },
  {
   "cell_type": "code",
   "execution_count": 205,
   "id": "c2e123d5-7455-4ce1-b487-b6439ac74306",
   "metadata": {},
   "outputs": [],
   "source": [
    "from sklearn.cluster import KMeans\n",
    "import matplotlib.pyplot as plt\n",
    "\n",
    "# Optimal number of clusters based on silhouette scores\n",
    "optimal_K_pca = K_values_pca[silhouette_scores_pca.index(max(silhouette_scores_pca))]\n",
    "optimal_K_autoencoder = K_values_autoencoder[silhouette_scores_autoencoder.index(max(silhouette_scores_autoencoder))]\n",
    "optimal_K_encoder = K_values_encoder[silhouette_scores_encoder.index(max(silhouette_scores_encoder))]\n",
    "\n",
    "# K-Means clustering for PCA data\n",
    "kmeans_pca = KMeans(n_clusters=optimal_K_pca, random_state=42)\n",
    "kmeans_pca.fit(train_images_pca)\n",
    "centers_pca = kmeans_pca.cluster_centers_\n",
    "\n",
    "# K-Means clustering for Autoencoder data\n",
    "kmeans_autoencoder = KMeans(n_clusters=optimal_K_autoencoder, random_state=42)\n",
    "kmeans_autoencoder.fit(train_images_autoencoder)\n",
    "centers_autoencoder = kmeans_autoencoder.cluster_centers_\n",
    "\n",
    "# K-Means clustering for Autoencoder data\n",
    "kmeans_encoder = KMeans(n_clusters=optimal_K_encoder, random_state=42)\n",
    "kmeans_encoder.fit(train_images_encoder)\n",
    "centers_encoder = kmeans_encoder.cluster_centers_"
   ]
  },
  {
   "cell_type": "markdown",
   "id": "58a30992-0b40-400f-9b51-a1cbc75a5a5d",
   "metadata": {},
   "source": [
    "# The number of centers should be the same as the optimal K_value for each method respectively"
   ]
  },
  {
   "cell_type": "code",
   "execution_count": 206,
   "id": "5eee3345-e495-4517-af77-9e07b3ad4eb6",
   "metadata": {},
   "outputs": [
    {
     "name": "stdout",
     "output_type": "stream",
     "text": [
      "Centers PCA          shape:  (11, 132)\n",
      "Centers Auto-Encoder shape:  (10, 784)\n",
      "Centers Auto-Encoder shape:  (10, 132)\n",
      "PCA object:  PCA(n_components=0.9)\n",
      "PCA type  :  <class 'sklearn.decomposition._pca.PCA'>\n"
     ]
    }
   ],
   "source": [
    "print(\"Centers PCA          shape: \",centers_pca.shape)\n",
    "print(\"Centers Auto-Encoder shape: \",centers_autoencoder.shape)\n",
    "print(\"Centers Auto-Encoder shape: \",centers_encoder.shape)\n",
    "print(\"PCA object: \",pca)\n",
    "print(\"PCA type  : \",type(pca))"
   ]
  },
  {
   "cell_type": "markdown",
   "id": "93bb11b0-b9bc-44f8-89e8-186168a85af3",
   "metadata": {
    "jp-MarkdownHeadingCollapsed": true
   },
   "source": [
    "# Reconstruct Images\n",
    "We need to reshape the images to their initial dimensions (2D Array (28,28))\n",
    "* For PCA object we call the inverse_transform() method (PCA Method generally keeps the information for the data and its original shape as opposed to the other methods)\n",
    "* For the autoencoder we have to use the scaler to inverse_transform\n",
    "* For the Encoder, we just have to use the Decoder on top of the Encoder"
   ]
  },
  {
   "cell_type": "markdown",
   "id": "1cbe231e-57a6-490a-a88e-165403bf2725",
   "metadata": {},
   "source": [
    "# PCA"
   ]
  },
  {
   "cell_type": "code",
   "execution_count": 207,
   "id": "02d8d2a5-2ecd-41b8-a717-3e95c55a7971",
   "metadata": {},
   "outputs": [
    {
     "name": "stdout",
     "output_type": "stream",
     "text": [
      "(1D Matix) Tranformed Images from Centers for PCA:  (11, 784)\n",
      "(2D Matix) Tranformed Images from Centers for PCA : (11, 28, 28)\n"
     ]
    }
   ],
   "source": [
    "# Inverse transform the PCA centers to the original space\n",
    "pca_centers_original = pca.inverse_transform(centers_pca)\n",
    "print(\"(1D Matix) Tranformed Images from Centers for PCA: \", pca_centers_original.shape)\n",
    "pca_centers_images = pca_centers_original.reshape((optimal_K_pca, 28, 28))\n",
    "print(\"(2D Matix) Tranformed Images from Centers for PCA :\", pca_centers_images.shape)"
   ]
  },
  {
   "cell_type": "markdown",
   "id": "e3e4bfe6-2446-47c7-98c5-8a2bd6a504b0",
   "metadata": {},
   "source": [
    "# Auto-Encoder"
   ]
  },
  {
   "cell_type": "code",
   "execution_count": 208,
   "id": "4015980a-d6ce-4c03-832e-536a6e7a60d1",
   "metadata": {},
   "outputs": [
    {
     "name": "stdout",
     "output_type": "stream",
     "text": [
      "(1D Matix) Tranformed Images from Centers for Auto-Encoder:  (10, 784)\n",
      "(2D Matix) Tranformed Images from Centers for Auto-Encoder:  (10, 28, 28)\n"
     ]
    }
   ],
   "source": [
    "# Inverse transform the Auto-Encoder centers to the original space \n",
    "# with Standard Scaler\n",
    "autoencoder_centers_original = scaler.inverse_transform(centers_autoencoder)\n",
    "print(\"(1D Matix) Tranformed Images from Centers for Auto-Encoder: \", autoencoder_centers_original.shape)\n",
    "# Reshape each center into a 28x28 image\n",
    "autoencoder_centers_images = np.array([center.reshape(28, 28) for center in autoencoder_centers_original])\n",
    "print(\"(2D Matix) Tranformed Images from Centers for Auto-Encoder: \", autoencoder_centers_images.shape)"
   ]
  },
  {
   "cell_type": "markdown",
   "id": "d7a27883-a13c-4066-b068-3a64db49b8c3",
   "metadata": {},
   "source": [
    "# Encoder"
   ]
  },
  {
   "cell_type": "code",
   "execution_count": 209,
   "id": "d1fa70a8-1f25-4306-ab1a-f40f85edd33f",
   "metadata": {},
   "outputs": [
    {
     "name": "stdout",
     "output_type": "stream",
     "text": [
      "Encoder centers shape:  (10, 132)\n"
     ]
    }
   ],
   "source": [
    "print(\"Encoder centers shape: \",centers_encoder.shape)"
   ]
  },
  {
   "cell_type": "code",
   "execution_count": 210,
   "id": "97b2264e-ca4f-4b34-80d9-e44f79bec42f",
   "metadata": {},
   "outputs": [
    {
     "name": "stdout",
     "output_type": "stream",
     "text": [
      "\u001b[1m1/1\u001b[0m \u001b[32m━━━━━━━━━━━━━━━━━━━━\u001b[0m\u001b[37m\u001b[0m \u001b[1m0s\u001b[0m 25ms/step\n"
     ]
    }
   ],
   "source": [
    "# Use the Decoder model in order to decode the images after clusterring of the encoded images (because the dimensions for the encoder are M = 132)\n",
    "# The dimensions fitted for the first scaller are d = 784\n",
    "decoded_centers = decoder.predict(centers_encoder)"
   ]
  },
  {
   "cell_type": "code",
   "execution_count": 211,
   "id": "aeb0e41f-0f51-47fd-ace2-d135354a519e",
   "metadata": {},
   "outputs": [
    {
     "name": "stdout",
     "output_type": "stream",
     "text": [
      "Decoder centers shape:  (10, 784)\n"
     ]
    }
   ],
   "source": [
    "print(\"Decoder centers shape: \",decoded_centers.shape)"
   ]
  },
  {
   "cell_type": "code",
   "execution_count": 214,
   "id": "a61d9535-4f27-44c9-ad11-3cde3de2fc25",
   "metadata": {},
   "outputs": [
    {
     "name": "stdout",
     "output_type": "stream",
     "text": [
      "(2D Matix) Tranformed Images from Centers for Encoder:  (10, 28, 28)\n"
     ]
    }
   ],
   "source": [
    "# Reshape each center into a 28x28 image\n",
    "encoder_centers_images = np.array([center.reshape(28, 28) for center in decoded_centers])\n",
    "print(\"(2D Matix) Tranformed Images from Centers for Encoder: \", encoder_centers_images.shape)"
   ]
  },
  {
   "cell_type": "markdown",
   "id": "3e250793-d032-48ce-9405-c8bd509669bb",
   "metadata": {},
   "source": [
    "# At this point, we are ready to plot the images from both methods\n",
    "########################################################################################################\n",
    "# Every Array is in the form of 28 * 28 dimensions"
   ]
  },
  {
   "cell_type": "code",
   "execution_count": 216,
   "id": "a4a6cd09-5a5f-42b6-8856-bd304c9885e7",
   "metadata": {},
   "outputs": [
    {
     "name": "stdout",
     "output_type": "stream",
     "text": [
      "(2D Matix) Tranformed Images from Centers for         PCA :  (11, 28, 28)\n",
      "(2D Matix) Tranformed Images from Centers for Auto-Encoder:  (10, 28, 28)\n",
      "(2D Matix) Tranformed Images from Centers for      Encoder:  (10, 28, 28)\n"
     ]
    }
   ],
   "source": [
    "print(\"(2D Matix) Tranformed Images from Centers for         PCA : \", pca_centers_images.shape)\n",
    "print(\"(2D Matix) Tranformed Images from Centers for Auto-Encoder: \", autoencoder_centers_images.shape)\n",
    "print(\"(2D Matix) Tranformed Images from Centers for      Encoder: \", encoder_centers_images.shape)"
   ]
  },
  {
   "cell_type": "code",
   "execution_count": 217,
   "id": "aa64cf37-9832-482a-87d3-efb452cfbe7e",
   "metadata": {
    "scrolled": true
   },
   "outputs": [
    {
     "data": {
      "image/png": "[encoded data removed]",
      "text/plain": [
       "<Figure size 1000x400 with 10 Axes>"
      ]
     },
     "metadata": {},
     "output_type": "display_data"
    },
    {
     "data": {
      "image/png": "[encoded data removed]",
      "text/plain": [
       "<Figure size 1000x400 with 10 Axes>"
      ]
     },
     "metadata": {},
     "output_type": "display_data"
    },
    {
     "data": {
      "image/png": "[encoded data removed]",
      "text/plain": [
       "<Figure size 1000x400 with 10 Axes>"
      ]
     },
     "metadata": {},
     "output_type": "display_data"
    }
   ],
   "source": [
    "# Function to plot images\n",
    "def plot_cluster_centers(images, title):\n",
    "    plt.figure(figsize=(10, 4))\n",
    "    for i in range(10):\n",
    "        plt.subplot(2, 5, i + 1)\n",
    "        plt.imshow(images[i], cmap='gray')\n",
    "        plt.axis('off')\n",
    "    plt.suptitle(title)\n",
    "    plt.show()\n",
    "\n",
    "\n",
    "\n",
    "\n",
    "# Plot the PCA cluster centers\n",
    "plot_cluster_centers(pca_centers_images, 'Cluster Centers (PCA)')\n",
    "\n",
    "# Plot the Autoencoder cluster centers\n",
    "plot_cluster_centers(autoencoder_centers_images, 'Cluster Centers (Auto-Encoder)')\n",
    "\n",
    "# Plot the Encoder cluster centers\n",
    "plot_cluster_centers(encoder_centers_images, 'Cluster Centers (Encoder)')"
   ]
  },
  {
   "cell_type": "markdown",
   "id": "cfaa363c-3d4c-4f19-abaa-213eca92f874",
   "metadata": {},
   "source": [
    "# Purity "
   ]
  },
  {
   "cell_type": "code",
   "execution_count": 218,
   "id": "aa812cdc-0582-4adf-8005-2f1a85d3e15a",
   "metadata": {},
   "outputs": [],
   "source": [
    "import numpy as np\n",
    "from sklearn import metrics\n",
    "\n",
    "def purity_score(y_true, y_pred):\n",
    "    # compute contingency matrix (also called confusion matrix)\n",
    "    contingency_matrix = metrics.cluster.contingency_matrix(y_true, y_pred)\n",
    "    # return purity\n",
    "    return np.sum(np.amax(contingency_matrix, axis=0)) / np.sum(contingency_matrix)"
   ]
  },
  {
   "cell_type": "code",
   "execution_count": 219,
   "id": "e7dab069-9db4-45aa-bb7f-acf7edcbd016",
   "metadata": {},
   "outputs": [
    {
     "name": "stdout",
     "output_type": "stream",
     "text": [
      "PCA          centers images shape :  (11, 28, 28)\n",
      "Auto-Encoder centers images shape :  (10, 28, 28)\n",
      "Original Train images shape       :  (10000, 784)\n",
      "Original Test  images shape       :  (2000, 784)\n",
      "Original Train images shape  (std):  (10000, 784)\n",
      "Original Test  images shape: (std):  (2000, 784)\n"
     ]
    }
   ],
   "source": [
    "print(\"PCA          centers images shape : \",pca_centers_images.shape)\n",
    "print(\"Auto-Encoder centers images shape : \",autoencoder_centers_images.shape)\n",
    "print(\"Original Train images shape       : \",sampled_train_images.shape)\n",
    "print(\"Original Test  images shape       : \",sampled_test_images.shape)\n",
    "print(\"Original Train images shape  (std): \",train_images_std.shape)\n",
    "print(\"Original Test  images shape: (std): \",test_images_std.shape)"
   ]
  },
  {
   "cell_type": "markdown",
   "id": "cffe2823-9327-4b98-9e80-cc1e227dfa34",
   "metadata": {},
   "source": [
    "# Ensure that the values of the arrays are on the same scale \n",
    "# In this case we will compare the std's of the PCA and Auto-Encoder values with the original std values"
   ]
  },
  {
   "cell_type": "markdown",
   "id": "18b26bff-213c-4870-bb23-95ee23eea8fb",
   "metadata": {},
   "source": [
    "# Correct Data Shapes for compute_purity\n",
    "* PCA Data: The shape should be (number_of_samples, number_of_principal_components)\n",
    "* Auto-Encoder Data: The shape should be (number_of_samples, number_of_initial_dimensions) (because the autoencoder uses the decoder to reconstruct the initial input shape)\n",
    "* Encoder Data: The shape should be (number_of_samples, number_of_encoded_dimensions)"
   ]
  },
  {
   "cell_type": "code",
   "execution_count": 220,
   "id": "7f876eb8-74f6-4293-9d55-aad3390a91a8",
   "metadata": {},
   "outputs": [
    {
     "name": "stdout",
     "output_type": "stream",
     "text": [
      "PCA          train images shape:  (10000, 132)\n",
      "Encoded      train images shape:  (10000, 132)\n",
      "Auto-Encoder train images shape:  (10000, 784)\n",
      "Sampled      train labels shape:  (10000,)\n"
     ]
    }
   ],
   "source": [
    "print(\"PCA          train images shape: \",train_images_pca.shape)\n",
    "print(\"Encoded      train images shape: \",train_images_encoder.shape)\n",
    "print(\"Auto-Encoder train images shape: \",train_images_autoencoder.shape)\n",
    "print(\"Sampled      train labels shape: \",sampled_train_labels.shape)"
   ]
  },
  {
   "cell_type": "code",
   "execution_count": 221,
   "id": "1876c2ba-8822-4ad7-96a4-ce9468b7d21f",
   "metadata": {},
   "outputs": [
    {
     "name": "stdout",
     "output_type": "stream",
     "text": [
      "Purity for PCA         dataset: 0.5649\n",
      "Purity for Autoencoder dataset: 0.4490\n",
      "Purity for Encoder     dataset: 0.5122\n"
     ]
    }
   ],
   "source": [
    "import numpy as np\n",
    "from sklearn.cluster import KMeans\n",
    "from sklearn.metrics import silhouette_score\n",
    "from sklearn.metrics import pairwise_distances_argmin_min\n",
    "from collections import Counter\n",
    "\n",
    "\n",
    "\n",
    "# Purity Function\n",
    "def compute_purity(X, y, n_clusters):\n",
    "    kmeans = KMeans(n_clusters=n_clusters, random_state=42).fit(X)\n",
    "    clusters = kmeans.labels_\n",
    "    \n",
    "    majority_sum = 0\n",
    "    for i in range(n_clusters):\n",
    "        cluster_indices = np.where(clusters == i)[0]\n",
    "        true_labels = y[cluster_indices]\n",
    "        most_common_label, count = Counter(true_labels).most_common(1)[0]\n",
    "        majority_sum += count\n",
    "    \n",
    "    purity = majority_sum / len(y)\n",
    "    return purity\n",
    "\n",
    "X_pca = train_images_pca\n",
    "X_encoder = train_images_encoder\n",
    "X_autoencoder = train_images_autoencoder\n",
    "y = sampled_train_labels\n",
    "\n",
    "# Calculate Purity\n",
    "purity_pca = compute_purity(X_pca, y, optimal_K_pca)\n",
    "purity_autoencoder = compute_purity(X_autoencoder, y, optimal_K_autoencoder)\n",
    "purity_encoder = compute_purity(X_encoder, y, optimal_K_autoencoder)\n",
    "\n",
    "print(f\"Purity for PCA         dataset: {purity_pca:.4f}\")\n",
    "print(f\"Purity for Autoencoder dataset: {purity_autoencoder:.4f}\")\n",
    "print(f\"Purity for Encoder     dataset: {purity_encoder:.4f}\")"
   ]
  },
  {
   "cell_type": "markdown",
   "id": "1464d857-0b9c-4b64-b99d-121506733539",
   "metadata": {},
   "source": [
    "# F-Measure"
   ]
  },
  {
   "cell_type": "code",
   "execution_count": 222,
   "id": "c51253c8-4f76-421f-a37b-0226da8958b1",
   "metadata": {},
   "outputs": [
    {
     "name": "stdout",
     "output_type": "stream",
     "text": [
      "Overall F-measure for PCA          clusters: 5.843798207023721\n",
      "Overall F-measure for Auto-Encoder clusters: 4.527573486246007\n",
      "Overall F-measure for Encoder      clusters: 4.8425679966754975\n"
     ]
    }
   ],
   "source": [
    "from sklearn.metrics import confusion_matrix\n",
    "\n",
    "# F-Measure Function\n",
    "def compute_f_measure(cluster_labels, true_labels, num_clusters):\n",
    "    total_f_measure = 0\n",
    "    r=0 \n",
    "    \n",
    "    for cluster in range(num_clusters):\n",
    "        # Get indices of data points in this cluster\n",
    "        cluster_indices = np.where(cluster_labels == cluster)[0]\n",
    "        # Get the values (labels) of those indices\n",
    "        cluster_true_labels = true_labels[cluster_indices]\n",
    "        \n",
    "        # Determine the majority class in the cluster\n",
    "        majority_class = np.bincount(cluster_true_labels).argmax()\n",
    "        \n",
    "        # Calculate TP, FP, and FN\n",
    "        TP = np.sum(cluster_true_labels == majority_class)\n",
    "        FP = np.sum(cluster_true_labels != majority_class)\n",
    "        FN = np.sum((true_labels == majority_class) & (cluster_labels != cluster))\n",
    "        \n",
    "        # Precision and Recall\n",
    "        precision = TP / (TP + FP) if (TP + FP) > 0 else 0\n",
    "        recall = TP / (TP + FN) if (TP + FN) > 0 else 0\n",
    "        \n",
    "        # F-measure\n",
    "        if precision + recall > 0:\n",
    "            f_measure = 2 * (precision * recall) / (precision + recall)\n",
    "        else:\n",
    "            f_measure = 0\n",
    "        \n",
    "        total_f_measure += f_measure\n",
    "\n",
    "    return total_f_measure\n",
    "\n",
    "# K-means clustering on PCA data\n",
    "num_clusters_pca = optimal_K_pca\n",
    "cluster_labels_pca = kmeans_pca.labels_\n",
    "f_measure_pca = compute_f_measure(cluster_labels_pca, sampled_train_labels, num_clusters_pca)\n",
    "\n",
    "\n",
    "# K-means clustering on Auto-Encoder data\n",
    "num_clusters_autoencoder = optimal_K_autoencoder\n",
    "cluster_labels_autoencoder = kmeans_autoencoder.labels_\n",
    "f_measure_autoencoder = compute_f_measure(cluster_labels_autoencoder, sampled_train_labels, num_clusters_autoencoder)\n",
    "\n",
    "# K-means clustering on Encoder data\n",
    "num_clusters_encoder = optimal_K_encoder\n",
    "cluster_labels_encoder = kmeans_encoder.labels_\n",
    "f_measure_encoder = compute_f_measure(cluster_labels_encoder, sampled_train_labels, num_clusters_encoder)\n",
    "\n",
    "print(f'Overall F-measure for PCA          clusters: {f_measure_pca}')\n",
    "print(f'Overall F-measure for Auto-Encoder clusters: {f_measure_autoencoder}')\n",
    "print(f'Overall F-measure for Encoder      clusters: {f_measure_encoder}')"
   ]
  },
  {
   "cell_type": "markdown",
   "id": "01450834-b9b9-473a-bf44-12fedb318183",
   "metadata": {},
   "source": [
    "# Overall, best results are achieved with the PCA Method"
   ]
  },
  {
   "cell_type": "markdown",
   "id": "b2ed71af-cf87-4b27-90f3-f9619ce115d7",
   "metadata": {},
   "source": [
    "# To convert the notebook to PDF format follow the instructions:\n",
    "* pip install nbconvert[webpdf]\n",
    "* Install pandoc\n",
    "* jupyter nbconvert --to webpdf ml_set2.ipynb --allow-chromium-download "
   ]
  }
 ],
 "metadata": {
  "kernelspec": {
   "display_name": "Python 3 (ipykernel)",
   "language": "python",
   "name": "python3"
  },
  "language_info": {
   "codemirror_mode": {
    "name": "ipython",
    "version": 3
   },
   "file_extension": ".py",
   "mimetype": "text/x-python",
   "name": "python",
   "nbconvert_exporter": "python",
   "pygments_lexer": "ipython3",
   "version": "3.12.2"
  }
 },
 "nbformat": 4,
 "nbformat_minor": 5
}
